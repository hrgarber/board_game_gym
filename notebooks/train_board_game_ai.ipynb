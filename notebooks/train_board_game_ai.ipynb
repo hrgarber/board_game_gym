{
 "cells": [
  {
   "cell_type": "markdown",
   "metadata": {},
   "source": [
    "# Training the Board Game AI\n",
    "\n",
    "This notebook is used to train the AI for the board game using both Q-Learning and Deep Q-Network (DQN) with PyTorch. It enables GPU acceleration on Windows and maintains compatibility with Mac. The notebook includes visualizations for better transparency and progress tracking across multiple training sessions."
   ]
  },
  {
   "cell_type": "code",
   "execution_count": null,
   "metadata": {},
   "outputs": [],
   "source": [
    "import os\n",
    "import sys\n",
    "\n",
    "# Add the project root directory to the Python path\n",
    "project_root = os.path.abspath(os.path.join(os.getcwd(), '..'))\n",
    "sys.path.append(project_root)\n",
    "\n",
    "import numpy as np\n",
    "import torch\n",
    "import matplotlib.pyplot as plt\n",
    "from src.environments.board_game_env import BoardGameEnv\n",
    "from src.agents.q_learning_agent import QLearningAgent\n",
    "from src.agents.dqn_agent import DQNAgent\n",
    "from src.utils.utils import evaluate_agent, plot_training_results, plot_version_comparison\n",
    "from src.utils.training_utils import train_agent\n",
    "from tqdm import tqdm\n",
    "\n",
    "# Set up device (CPU or CUDA)\n",
    "device = torch.device(\"cuda\" if torch.cuda.is_available() else \"cpu\")\n",
    "print(f\"Using device: {device}\")\n",
    "\n",
    "# Set random seed for reproducibility\n",
    "np.random.seed(42)\n",
    "torch.manual_seed(42)"
   ]
  },
  {
   "cell_type": "markdown",
   "metadata": {},
   "source": [
    "## Initialize the environment and agents"
   ]
  },
  {
   "cell_type": "code",
   "execution_count": null,
   "metadata": {},
   "outputs": [],
   "source": [
    "# Create the game environment\n",
    "env = BoardGameEnv()\n",
    "state_size = env.observation_space.shape[0]\n",
    "action_size = env.action_space.n\n",
    "\n",
    "# Create Q-Learning and DQN agents\n",
    "q_agent = QLearningAgent(state_size, action_size)\n",
    "dqn_agent = DQNAgent(state_size, action_size, device)\n",
    "\n",
    "# Set training parameters\n",
    "num_episodes = 10000\n",
    "max_steps = 100\n",
    "batch_size = 32\n",
    "update_target_every = 100"
   ]
  },
  {
   "cell_type": "markdown",
   "metadata": {},
   "source": [
    "## Train the agents\n",
    "\n",
    "Run the training process for both Q-Learning and DQN agents and visualize the results."
   ]
  },
  {
   "cell_type": "code",
   "execution_count": null,
   "metadata": {},
   "outputs": [],
   "source": [
    "# Train Q-Learning agent\n",
    "# print(\"Training Q-Learning Agent...\")\n",
    "# q_rewards, q_win_rates = train_agent(env, q_agent, num_episodes, max_steps)\n",
    "\n",
    "# Train DQN agent\n",
    "print(\"\\nTraining DQN Agent...\")\n",
    "dqn_rewards, dqn_win_rates = train_agent(env, dqn_agent, num_episodes, max_steps, batch_size, update_target_every)\n",
    "\n",
    "# Plot training results\n",
    "# plot_training_results(q_rewards, q_win_rates, \"Q-Learning\")\n",
    "plot_training_results(dqn_rewards, dqn_win_rates, \"DQN\")"
   ]
  },
  {
   "cell_type": "markdown",
   "metadata": {},
   "source": [
    "## Save the trained models"
   ]
  },
  {
   "cell_type": "code",
   "execution_count": null,
   "metadata": {},
   "outputs": [],
   "source": [
    "# q_agent.save_model('models/q_learning_model.json')\n",
    "dqn_agent.save('model/dqn_model.pth')\n",
    "print(\"Models saved successfully.\")"
   ]
  },
  {
   "cell_type": "markdown",
   "metadata": {},
   "source": [
    "## Compare agent performances"
   ]
  },
  {
   "cell_type": "code",
   "execution_count": null,
   "metadata": {},
   "outputs": [],
   "source": [
    "def compare_agents(env, dqn_agent, num_games=100):\n",
    "    dqn_win_rate = evaluate_agent(env, dqn_agent, num_games)\n",
    "    \n",
    "    print(f\"DQN Agent Win Rate: {dqn_win_rate:.2%}\")\n",
    "    \n",
    "    plt.bar(['DQN'], [dqn_win_rate])\n",
    "    plt.title('Agent Performance')\n",
    "    plt.ylabel('Win Rate')\n",
    "    plt.show()\n",
    "\n",
    "compare_agents(env, dqn_agent)"
   ]
  },
  {
   "cell_type": "markdown",
   "metadata": {},
   "source": [
    "## Play test games"
   ]
  },
  {
   "cell_type": "code",
   "execution_count": null,
   "metadata": {},
   "outputs": [],
   "source": [
    "def play_test_game(env, agent, agent_name):\n",
    "    \"\"\"Play a test game using the trained agent.\n",
    "\n",
    "    Args:\n",
    "        env (BoardGameEnv): The game environment.\n",
    "        agent (QLearningAgent or DQNAgent): The trained agent.\n",
    "        agent_name (str): The name of the agent (for display purposes).\n",
    "    \"\"\"\n",
    "    state = env.reset()\n",
    "    done = False\n",
    "    total_reward = 0\n",
    "\n",
    "    print(f\"\\nPlaying a test game with {agent_name} agent:\")\n",
    "    while not done:\n",
    "        env.render()\n",
    "        action = agent.act(state)\n",
    "        state, reward, done, _ = env.step(action)\n",
    "        total_reward += reward\n",
    "\n",
    "    env.render()\n",
    "    print(f\"Game over. Total reward: {total_reward}\")\n",
    "\n",
    "play_test_game(env, dqn_agent, \"DQN\")"
   ]
  }
 ],
 "metadata": {
  "kernelspec": {
   "display_name": "Python 3",
   "language": "python",
   "name": "python3"
  },
  "language_info": {
   "codemirror_mode": {
    "name": "ipython",
    "version": 3
   },
   "file_extension": ".py",
   "mimetype": "text/x-python",
   "name": "python",
   "nbconvert_exporter": "python",
   "pygments_lexer": "ipython3",
   "version": "3.8.5"
  }
 },
 "nbformat": 4,
 "nbformat_minor": 4
}
