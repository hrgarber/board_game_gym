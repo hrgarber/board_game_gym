{
 "cells": [
  {
   "cell_type": "markdown",
   "metadata": {},
   "source": [
    "# Hyperparameter Tuning for Board Game AI\n",
    "\n",
    "This notebook demonstrates the process of hyperparameter tuning for our Board Game AI using grid search, random search, and Bayesian optimization."
   ]
  },
  {
   "cell_type": "code",
   "execution_count": null,
   "metadata": {},
   "outputs": [],
   "source": [
    "import os\n",
    "import sys\n",
    "import numpy as np\n",
    "import matplotlib.pyplot as plt\n",
    "\n",
    "# Add the project root directory to the Python path\n",
    "project_root = os.path.abspath(os.path.join(os.getcwd(), '..'))\n",
    "sys.path.append(project_root)\n",
    "\n",
    "from src.utils.hyperparameter_tuning import grid_search, random_search, bayesian_optimization, visualize_tuning_results\n",
    "from src.environments.board_game_env import BoardGameEnv"
   ]
  },
  {
   "cell_type": "markdown",
   "metadata": {},
   "source": [
    "## 1. Grid Search"
   ]
  },
  {
   "cell_type": "code",
   "execution_count": null,
   "metadata": {},
   "outputs": [],
   "source": [
    "q_learning_param_grid = {\n",
    "    'learning_rate': [0.001, 0.01, 0.1],\n",
    "    'discount_factor': [0.9, 0.95, 0.99],\n",
    "    'epsilon': [0.1, 0.2, 0.3],\n",
    "    'epsilon_decay': [0.99, 0.995, 0.999]\n",
    "}\n",
    "\n",
    "print(\"Grid Search for Q-Learning:\")\n",
    "q_learning_results = grid_search('q_learning', q_learning_param_grid)\n",
    "print(q_learning_results)\n",
    "visualize_tuning_results(q_learning_results, 'grid')"
   ]
  },
  {
   "cell_type": "markdown",
   "metadata": {},
   "source": [
    "## 2. Random Search"
   ]
  },
  {
   "cell_type": "code",
   "execution_count": null,
   "metadata": {},
   "outputs": [],
   "source": [
    "q_learning_param_ranges = {\n",
    "    'learning_rate': (0.001, 0.1),\n",
    "    'discount_factor': (0.9, 0.99),\n",
    "    'epsilon': (0.1, 0.5),\n",
    "    'epsilon_decay': (0.99, 0.9999)\n",
    "}\n",
    "\n",
    "print(\"Random Search for Q-Learning:\")\n",
    "q_learning_random_results = random_search('q_learning', q_learning_param_ranges)\n",
    "print(q_learning_random_results)\n",
    "visualize_tuning_results(q_learning_random_results, 'random')"
   ]
  },
  {
   "cell_type": "markdown",
   "metadata": {},
   "source": [
    "## 3. Bayesian Optimization"
   ]
  },
  {
   "cell_type": "code",
   "execution_count": null,
   "metadata": {},
   "outputs": [],
   "source": [
    "print(\"Bayesian Optimization for Q-Learning:\")\n",
    "q_learning_bayesian_results = bayesian_optimization('q_learning', q_learning_param_ranges)\n",
    "print(q_learning_bayesian_results)\n",
    "visualize_tuning_results(q_learning_bayesian_results, 'bayesian')"
   ]
  },
  {
   "cell_type": "markdown",
   "metadata": {},
   "source": [
    "## 4. Comparison of Methods"
   ]
  },
  {
   "cell_type": "code",
   "execution_count": null,
   "metadata": {},
   "outputs": [],
   "source": [
    "def compare_methods(grid_results, random_results, bayesian_results):\n",
    "    methods = ['Grid Search', 'Random Search', 'Bayesian Optimization']\n",
    "    best_performances = [\n",
    "        grid_results['best_performance'],\n",
    "        random_results['best_performance'],\n",
    "        bayesian_results['best_performance']\n",
    "    ]\n",
    "    \n",
    "    plt.figure(figsize=(10, 6))\n",
    "    plt.bar(methods, best_performances)\n",
    "    plt.title('Comparison of Hyperparameter Tuning Methods')\n",
    "    plt.ylabel('Best Performance')\n",
    "    plt.show()\n",
    "\n",
    "compare_methods(q_learning_results, q_learning_random_results, q_learning_bayesian_results)"
   ]
  },
  {
   "cell_type": "markdown",
   "metadata": {},
   "source": [
    "## 5. Conclusion\n",
    "\n",
    "Based on the results above, we can conclude which hyperparameter tuning method performed best for our Board Game AI. The best hyperparameters found are:\n",
    "\n",
    "- Grid Search: [Insert best parameters here]\n",
    "- Random Search: [Insert best parameters here]\n",
    "- Bayesian Optimization: [Insert best parameters here]\n",
    "\n",
    "The method that yielded the best performance was [Insert best method here]. We will use these optimal hyperparameters for further training and development of our AI agent."
   ]
  }
 ],
 "metadata": {
  "kernelspec": {
   "display_name": "Python 3",
   "language": "python",
   "name": "python3"
  },
  "language_info": {
   "codemirror_mode": {
    "name": "ipython",
    "version": 3
   },
   "file_extension": ".py",
   "mimetype": "text/x-python",
   "name": "python",
   "nbconvert_exporter": "python",
   "pygments_lexer": "ipython3",
   "version": "3.8.5"
  }
 },
 "nbformat": 4,
 "nbformat_minor": 4
}
